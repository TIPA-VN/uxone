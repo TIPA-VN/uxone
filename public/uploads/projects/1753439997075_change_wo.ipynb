{
 "cells": [
  {
   "cell_type": "code",
   "execution_count": null,
   "id": "201ffe59",
   "metadata": {},
   "outputs": [],
   "source": [
    "import pandas as pd\n",
    "import requests\n",
    "import time"
   ]
  },
  {
   "cell_type": "code",
   "execution_count": null,
   "id": "477cd85c",
   "metadata": {},
   "outputs": [],
   "source": [
    "# Read the CSV file containing SO (Sales Order) and request date\n",
    "so_df = pd.read_csv('Adjust_SO_03072025_Production.csv')\n",
    "\n",
    "api_url = 'http://10.116.2.72:8091/api/process-wo-request-dates'\n",
    "api_key = None  # Set your API key if needed\n",
    "\n",
    "batch_size = 10 \n",
    "results = []\n",
    "\n",
    "headers = {'Content-Type': 'application/json'}\n",
    "if api_key:\n",
    "    headers['Authorization'] = f'Bearer {api_key}'\n",
    "\n",
    "for i in range(0, len(so_df), batch_size):\n",
    "    batch = so_df.iloc[i:i+batch_size]\n",
    "    so_updates = [\n",
    "        {\n",
    "            \"so_number\": str(row['SO']),\n",
    "            \"new_request_date\": str(row['Request_date'])\n",
    "        }\n",
    "        for _, row in batch.iterrows()\n",
    "    ]\n",
    "    payload = {\"so_updates\": so_updates}\n",
    "    print( payload)\n",
    "    try:\n",
    "        response = requests.post(api_url, json=payload, headers=headers)\n",
    "        response.raise_for_status()\n",
    "        resp_json = response.json()\n",
    "        failed_wos = resp_json.get('failed_work_orders', [])\n",
    "        # Optionally parse logs_csv for more details\n",
    "        print(f\"Batch {i//batch_size + 1} result: {resp_json}\")\n",
    "        if failed_wos:\n",
    "            print(f\"  Failed work orders in this batch: {failed_wos}\")\n",
    "        else:\n",
    "            print(\"  All work orders in this batch succeeded.\")\n",
    "        results.append({'batch': i//batch_size + 1, 'status': 'success', 'response': resp_json})\n",
    "    except Exception as e:\n",
    "        results.append({'batch': i//batch_size + 1, 'status': f'error: {e}'})\n",
    "        print(f\"Batch {i//batch_size + 1} error: {e}\")\n",
    "    time.sleep(2.5)\n"
   ]
  }
 ],
 "metadata": {
  "kernelspec": {
   "display_name": ".venv",
   "language": "python",
   "name": "python3"
  },
  "language_info": {
   "codemirror_mode": {
    "name": "ipython",
    "version": 3
   },
   "file_extension": ".py",
   "mimetype": "text/x-python",
   "name": "python",
   "nbconvert_exporter": "python",
   "pygments_lexer": "ipython3",
   "version": "3.9.6"
  }
 },
 "nbformat": 4,
 "nbformat_minor": 5
}
